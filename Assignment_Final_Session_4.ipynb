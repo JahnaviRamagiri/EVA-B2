{
  "nbformat": 4,
  "nbformat_minor": 0,
  "metadata": {
    "colab": {
      "name": "Assignment_Final - Session 4.ipynb",
      "provenance": [],
      "include_colab_link": true
    },
    "kernelspec": {
      "name": "python3",
      "display_name": "Python 3"
    },
    "accelerator": "GPU"
  },
  "cells": [
    {
      "cell_type": "markdown",
      "metadata": {
        "id": "view-in-github",
        "colab_type": "text"
      },
      "source": [
        "<a href=\"https://colab.research.google.com/github/JahnaviRamagiri/EVA-B2/blob/master/Assignment_Final_Session_4.ipynb\" target=\"_parent\"><img src=\"https://colab.research.google.com/assets/colab-badge.svg\" alt=\"Open In Colab\"/></a>"
      ]
    },
    {
      "cell_type": "code",
      "metadata": {
        "id": "0m2JWFliFfKT",
        "colab_type": "code",
        "colab": {}
      },
      "source": [
        "from __future__ import print_function\n",
        "import torch\n",
        "import torch.nn as nn\n",
        "import torch.nn.functional as F\n",
        "import torch.optim as optim\n",
        "from torchvision import datasets, transforms"
      ],
      "execution_count": 0,
      "outputs": []
    },
    {
      "cell_type": "code",
      "metadata": {
        "id": "h_Cx9q2QFgM7",
        "colab_type": "code",
        "colab": {}
      },
      "source": [
        "class Net(nn.Module):\n",
        "    def __init__(self):\n",
        "        super(Net, self).__init__()\n",
        "        self.conv1 = nn.Conv2d(1, 16, 3)        #input: 28X28X1 OUtput: 26X26X16 RF: 3\n",
        "        #self.batch1=nn.BatchNorm2d(16)     \n",
        "        self.drop=nn.Dropout(0.1)               #input -? OUtput? RF\n",
        "        self.conv2 = nn.Conv2d(16, 32, 3)       #input: 26X26X16 OUtput: 24X24X32 RF: 5\n",
        "        #self.batch2=nn.BatchNorm2d(32)\n",
        "        #self.drop=nn.Dropout(0.25)   \n",
        "        self.pool1 = nn.MaxPool2d(2, 2)         #input: 24X24X32 OUtput: 12X12X32 RF: 10\n",
        "        self.conv3 = nn.Conv2d(32, 8, 1)        #input: 12X12X32 OUtput: 12X12X8 RF: 10\n",
        "        self.conv8=nn.Conv2d(8,16,3,padding=1)  #input: 12X12X8 OUtput: 12X12X16 RF: 12\n",
        "        #self.batch1=nn.BatchNorm2d(16)\n",
        "        self.conv4 = nn.Conv2d(16, 32, 3)       #input: 12X12X16 OUtput: 10X10X32 RF: 14\n",
        "        #self.batch2=nn.BatchNorm2d(32)\n",
        "       \n",
        "        self.pool2 = nn.MaxPool2d(2, 2)         #input: 10X10X32 OUtput: 5X5X32 RF: 28\n",
        "        self.conv5 = nn.Conv2d(32, 16, 1)       #input: 5X5X32 OUtput: 5X5X16 RF: 28\n",
        "        #self.batch1=nn.BatchNorm2d(16)\n",
        "        self.conv6 = nn.Conv2d(16, 32, 3)       #input: 5X5X16 OUtput: 3X3X32 RF: 30\n",
        "        #self.batch2=nn.BatchNorm2d(32)\n",
        "        self.conv7 = nn.Conv2d(32, 10, 3)       #input: 3X3X32 OUtput: 1X1X10 RF: 32\n",
        "\n",
        "    def forward(self, x):\n",
        "        x = self.pool1(self.drop(F.relu(self.conv2(self.drop(F.relu(self.conv1(x)))))))\n",
        "        x = self.pool2(self.drop(F.relu(self.conv4(self.drop(F.relu(self.conv8(self.drop(F.relu(self.conv3(x))))))))))\n",
        "        x = self.drop(F.relu(self.conv6(self.drop(F.relu(self.conv5(x))))))\n",
        "        x = self.conv7(x)\n",
        "        x = x.view(-1, 10)\n",
        "        return F.log_softmax(x)"
      ],
      "execution_count": 0,
      "outputs": []
    },
    {
      "cell_type": "code",
      "metadata": {
        "colab_type": "code",
        "id": "xdydjYTZFyi3",
        "outputId": "328a3d59-1c14-4738-fe74-92ac96bff269",
        "colab": {
          "base_uri": "https://localhost:8080/",
          "height": 574
        }
      },
      "source": [
        "!pip install torchsummary\n",
        "from torchsummary import summary\n",
        "use_cuda = torch.cuda.is_available()\n",
        "device = torch.device(\"cuda\" if use_cuda else \"cpu\")\n",
        "model = Net().to(device)\n",
        "summary(model, input_size=(1, 28, 28))"
      ],
      "execution_count": 15,
      "outputs": [
        {
          "output_type": "stream",
          "text": [
            "Requirement already satisfied: torchsummary in /usr/local/lib/python3.6/dist-packages (1.5.1)\n",
            "----------------------------------------------------------------\n",
            "        Layer (type)               Output Shape         Param #\n",
            "================================================================\n",
            "            Conv2d-1           [-1, 16, 26, 26]             160\n",
            "           Dropout-2           [-1, 16, 26, 26]               0\n",
            "            Conv2d-3           [-1, 32, 24, 24]           4,640\n",
            "           Dropout-4           [-1, 32, 24, 24]               0\n",
            "         MaxPool2d-5           [-1, 32, 12, 12]               0\n",
            "            Conv2d-6            [-1, 8, 12, 12]             264\n",
            "           Dropout-7            [-1, 8, 12, 12]               0\n",
            "            Conv2d-8           [-1, 16, 12, 12]           1,168\n",
            "           Dropout-9           [-1, 16, 12, 12]               0\n",
            "           Conv2d-10           [-1, 32, 10, 10]           4,640\n",
            "          Dropout-11           [-1, 32, 10, 10]               0\n",
            "        MaxPool2d-12             [-1, 32, 5, 5]               0\n",
            "           Conv2d-13             [-1, 16, 5, 5]             528\n",
            "          Dropout-14             [-1, 16, 5, 5]               0\n",
            "           Conv2d-15             [-1, 32, 3, 3]           4,640\n",
            "          Dropout-16             [-1, 32, 3, 3]               0\n",
            "           Conv2d-17             [-1, 10, 1, 1]           2,890\n",
            "================================================================\n",
            "Total params: 18,930\n",
            "Trainable params: 18,930\n",
            "Non-trainable params: 0\n",
            "----------------------------------------------------------------\n",
            "Input size (MB): 0.00\n",
            "Forward/backward pass size (MB): 0.60\n",
            "Params size (MB): 0.07\n",
            "Estimated Total Size (MB): 0.67\n",
            "----------------------------------------------------------------\n"
          ],
          "name": "stdout"
        },
        {
          "output_type": "stream",
          "text": [
            "/usr/local/lib/python3.6/dist-packages/ipykernel_launcher.py:30: UserWarning: Implicit dimension choice for log_softmax has been deprecated. Change the call to include dim=X as an argument.\n"
          ],
          "name": "stderr"
        }
      ]
    },
    {
      "cell_type": "code",
      "metadata": {
        "id": "DqTWLaM5GHgH",
        "colab_type": "code",
        "colab": {}
      },
      "source": [
        "\n",
        "\n",
        "torch.manual_seed(1)\n",
        "batch_size = 64\n",
        "\n",
        "kwargs = {'num_workers': 1, 'pin_memory': True} if use_cuda else {}\n",
        "train_loader = torch.utils.data.DataLoader(\n",
        "    datasets.MNIST('../data', train=True, download=True,\n",
        "                    transform=transforms.Compose([\n",
        "                        transforms.ToTensor(),\n",
        "                        transforms.Normalize((0.1307,), (0.3081,))\n",
        "                    ])),\n",
        "    batch_size=batch_size, shuffle=True, **kwargs)\n",
        "test_loader = torch.utils.data.DataLoader(\n",
        "    datasets.MNIST('../data', train=False, transform=transforms.Compose([\n",
        "                        transforms.ToTensor(),\n",
        "                        transforms.Normalize((0.1307,), (0.3081,))\n",
        "                    ])),\n",
        "    batch_size=batch_size, shuffle=True, **kwargs)\n"
      ],
      "execution_count": 0,
      "outputs": []
    },
    {
      "cell_type": "code",
      "metadata": {
        "id": "8fDefDhaFlwH",
        "colab_type": "code",
        "colab": {}
      },
      "source": [
        "from tqdm import tqdm\n",
        "def train(model, device, train_loader, optimizer, epoch):\n",
        "    model.train()\n",
        "    pbar = tqdm(train_loader)\n",
        "    for batch_idx, (data, target) in enumerate(pbar):\n",
        "        data, target = data.to(device), target.to(device)\n",
        "        optimizer.zero_grad()\n",
        "        output = model(data)\n",
        "        loss = F.nll_loss(output, target)\n",
        "        loss.backward()\n",
        "        optimizer.step()\n",
        "        pbar.set_description(desc= f'loss={loss.item()} batch_id={batch_idx}')\n",
        "\n",
        "\n",
        "def test(model, device, test_loader):\n",
        "    model.eval()\n",
        "    test_loss = 0\n",
        "    correct = 0\n",
        "    with torch.no_grad():\n",
        "        for data, target in test_loader:\n",
        "            data, target = data.to(device), target.to(device)\n",
        "            output = model(data)\n",
        "            test_loss += F.nll_loss(output, target, reduction='sum').item()  # sum up batch loss\n",
        "            pred = output.argmax(dim=1, keepdim=True)  # get the index of the max log-probability\n",
        "            correct += pred.eq(target.view_as(pred)).sum().item()\n",
        "\n",
        "    test_loss /= len(test_loader.dataset)\n",
        "\n",
        "    print('\\nepoch:',epoch,' Test set: Average loss: {:.4f}, Accuracy: {}/{} ({:.2f}%)\\n'.format(\n",
        "        test_loss, correct, len(test_loader.dataset),\n",
        "        100. * correct / len(test_loader.dataset)))"
      ],
      "execution_count": 0,
      "outputs": []
    },
    {
      "cell_type": "code",
      "metadata": {
        "id": "MMWbLWO6FuHb",
        "colab_type": "code",
        "outputId": "aa57560a-511d-4a47-f607-f80cdc8878e5",
        "colab": {
          "base_uri": "https://localhost:8080/",
          "height": 1000
        }
      },
      "source": [
        "\n",
        "model = Net().to(device)\n",
        "optimizer = optim.SGD(model.parameters(), lr=0.01, momentum=0.9)\n",
        "\n",
        "for epoch in range(1, 20):\n",
        "    train(model, device, train_loader, optimizer, epoch)\n",
        "    test(model, device, test_loader)"
      ],
      "execution_count": 18,
      "outputs": [
        {
          "output_type": "stream",
          "text": [
            "  0%|          | 0/938 [00:00<?, ?it/s]/usr/local/lib/python3.6/dist-packages/ipykernel_launcher.py:30: UserWarning: Implicit dimension choice for log_softmax has been deprecated. Change the call to include dim=X as an argument.\n",
            "loss=0.051198557019233704 batch_id=937: 100%|██████████| 938/938 [00:23<00:00, 39.29it/s]\n",
            "  0%|          | 0/938 [00:00<?, ?it/s]"
          ],
          "name": "stderr"
        },
        {
          "output_type": "stream",
          "text": [
            "\n",
            "epoch: 1  Test set: Average loss: 0.0941, Accuracy: 9735/10000 (97.35%)\n",
            "\n"
          ],
          "name": "stdout"
        },
        {
          "output_type": "stream",
          "text": [
            "loss=0.08956678211688995 batch_id=937: 100%|██████████| 938/938 [00:23<00:00, 40.44it/s]\n",
            "  0%|          | 0/938 [00:00<?, ?it/s]"
          ],
          "name": "stderr"
        },
        {
          "output_type": "stream",
          "text": [
            "\n",
            "epoch: 2  Test set: Average loss: 0.0494, Accuracy: 9839/10000 (98.39%)\n",
            "\n"
          ],
          "name": "stdout"
        },
        {
          "output_type": "stream",
          "text": [
            "loss=0.009766936302185059 batch_id=937: 100%|██████████| 938/938 [00:22<00:00, 40.94it/s]\n",
            "  0%|          | 0/938 [00:00<?, ?it/s]"
          ],
          "name": "stderr"
        },
        {
          "output_type": "stream",
          "text": [
            "\n",
            "epoch: 3  Test set: Average loss: 0.0368, Accuracy: 9884/10000 (98.84%)\n",
            "\n"
          ],
          "name": "stdout"
        },
        {
          "output_type": "stream",
          "text": [
            "loss=0.09358695149421692 batch_id=937: 100%|██████████| 938/938 [00:23<00:00, 40.37it/s]\n",
            "  0%|          | 0/938 [00:00<?, ?it/s]"
          ],
          "name": "stderr"
        },
        {
          "output_type": "stream",
          "text": [
            "\n",
            "epoch: 4  Test set: Average loss: 0.0331, Accuracy: 9900/10000 (99.00%)\n",
            "\n"
          ],
          "name": "stdout"
        },
        {
          "output_type": "stream",
          "text": [
            "loss=0.0795452892780304 batch_id=937: 100%|██████████| 938/938 [00:22<00:00, 40.80it/s]\n",
            "  0%|          | 0/938 [00:00<?, ?it/s]"
          ],
          "name": "stderr"
        },
        {
          "output_type": "stream",
          "text": [
            "\n",
            "epoch: 5  Test set: Average loss: 0.0331, Accuracy: 9888/10000 (98.88%)\n",
            "\n"
          ],
          "name": "stdout"
        },
        {
          "output_type": "stream",
          "text": [
            "loss=0.024606600403785706 batch_id=937: 100%|██████████| 938/938 [00:23<00:00, 40.53it/s]\n",
            "  0%|          | 0/938 [00:00<?, ?it/s]"
          ],
          "name": "stderr"
        },
        {
          "output_type": "stream",
          "text": [
            "\n",
            "epoch: 6  Test set: Average loss: 0.0294, Accuracy: 9914/10000 (99.14%)\n",
            "\n"
          ],
          "name": "stdout"
        },
        {
          "output_type": "stream",
          "text": [
            "loss=0.0557592511177063 batch_id=937: 100%|██████████| 938/938 [00:23<00:00, 40.40it/s]\n",
            "  0%|          | 0/938 [00:00<?, ?it/s]"
          ],
          "name": "stderr"
        },
        {
          "output_type": "stream",
          "text": [
            "\n",
            "epoch: 7  Test set: Average loss: 0.0236, Accuracy: 9925/10000 (99.25%)\n",
            "\n"
          ],
          "name": "stdout"
        },
        {
          "output_type": "stream",
          "text": [
            "loss=0.003919363021850586 batch_id=937: 100%|██████████| 938/938 [00:23<00:00, 40.02it/s]\n",
            "  0%|          | 0/938 [00:00<?, ?it/s]"
          ],
          "name": "stderr"
        },
        {
          "output_type": "stream",
          "text": [
            "\n",
            "epoch: 8  Test set: Average loss: 0.0235, Accuracy: 9927/10000 (99.27%)\n",
            "\n"
          ],
          "name": "stdout"
        },
        {
          "output_type": "stream",
          "text": [
            "loss=0.00957663357257843 batch_id=937: 100%|██████████| 938/938 [00:23<00:00, 40.38it/s]\n",
            "  0%|          | 0/938 [00:00<?, ?it/s]"
          ],
          "name": "stderr"
        },
        {
          "output_type": "stream",
          "text": [
            "\n",
            "epoch: 9  Test set: Average loss: 0.0225, Accuracy: 9931/10000 (99.31%)\n",
            "\n"
          ],
          "name": "stdout"
        },
        {
          "output_type": "stream",
          "text": [
            "loss=0.05310380458831787 batch_id=937: 100%|██████████| 938/938 [00:23<00:00, 39.38it/s]\n",
            "  0%|          | 0/938 [00:00<?, ?it/s]"
          ],
          "name": "stderr"
        },
        {
          "output_type": "stream",
          "text": [
            "\n",
            "epoch: 10  Test set: Average loss: 0.0224, Accuracy: 9931/10000 (99.31%)\n",
            "\n"
          ],
          "name": "stdout"
        },
        {
          "output_type": "stream",
          "text": [
            "loss=0.004369020462036133 batch_id=937: 100%|██████████| 938/938 [00:23<00:00, 39.54it/s]\n",
            "  0%|          | 0/938 [00:00<?, ?it/s]"
          ],
          "name": "stderr"
        },
        {
          "output_type": "stream",
          "text": [
            "\n",
            "epoch: 11  Test set: Average loss: 0.0226, Accuracy: 9929/10000 (99.29%)\n",
            "\n"
          ],
          "name": "stdout"
        },
        {
          "output_type": "stream",
          "text": [
            "loss=0.00556202232837677 batch_id=937: 100%|██████████| 938/938 [00:23<00:00, 39.71it/s]\n",
            "  0%|          | 0/938 [00:00<?, ?it/s]"
          ],
          "name": "stderr"
        },
        {
          "output_type": "stream",
          "text": [
            "\n",
            "epoch: 12  Test set: Average loss: 0.0236, Accuracy: 9918/10000 (99.18%)\n",
            "\n"
          ],
          "name": "stdout"
        },
        {
          "output_type": "stream",
          "text": [
            "loss=0.00615769624710083 batch_id=937: 100%|██████████| 938/938 [00:23<00:00, 39.82it/s]\n",
            "  0%|          | 0/938 [00:00<?, ?it/s]"
          ],
          "name": "stderr"
        },
        {
          "output_type": "stream",
          "text": [
            "\n",
            "epoch: 13  Test set: Average loss: 0.0221, Accuracy: 9927/10000 (99.27%)\n",
            "\n"
          ],
          "name": "stdout"
        },
        {
          "output_type": "stream",
          "text": [
            "loss=0.06243494153022766 batch_id=937: 100%|██████████| 938/938 [00:23<00:00, 40.57it/s]\n",
            "  0%|          | 0/938 [00:00<?, ?it/s]"
          ],
          "name": "stderr"
        },
        {
          "output_type": "stream",
          "text": [
            "\n",
            "epoch: 14  Test set: Average loss: 0.0197, Accuracy: 9939/10000 (99.39%)\n",
            "\n"
          ],
          "name": "stdout"
        },
        {
          "output_type": "stream",
          "text": [
            "loss=0.008017301559448242 batch_id=937: 100%|██████████| 938/938 [00:23<00:00, 40.66it/s]\n",
            "  0%|          | 0/938 [00:00<?, ?it/s]"
          ],
          "name": "stderr"
        },
        {
          "output_type": "stream",
          "text": [
            "\n",
            "epoch: 15  Test set: Average loss: 0.0185, Accuracy: 9940/10000 (99.40%)\n",
            "\n"
          ],
          "name": "stdout"
        },
        {
          "output_type": "stream",
          "text": [
            "loss=0.045830413699150085 batch_id=937: 100%|██████████| 938/938 [00:23<00:00, 40.35it/s]\n",
            "  0%|          | 0/938 [00:00<?, ?it/s]"
          ],
          "name": "stderr"
        },
        {
          "output_type": "stream",
          "text": [
            "\n",
            "epoch: 16  Test set: Average loss: 0.0179, Accuracy: 9943/10000 (99.43%)\n",
            "\n"
          ],
          "name": "stdout"
        },
        {
          "output_type": "stream",
          "text": [
            "loss=0.0031270384788513184 batch_id=937: 100%|██████████| 938/938 [00:23<00:00, 40.48it/s]\n",
            "  0%|          | 0/938 [00:00<?, ?it/s]"
          ],
          "name": "stderr"
        },
        {
          "output_type": "stream",
          "text": [
            "\n",
            "epoch: 17  Test set: Average loss: 0.0199, Accuracy: 9938/10000 (99.38%)\n",
            "\n"
          ],
          "name": "stdout"
        },
        {
          "output_type": "stream",
          "text": [
            "loss=0.08278024196624756 batch_id=937: 100%|██████████| 938/938 [00:23<00:00, 40.61it/s]\n",
            "  0%|          | 0/938 [00:00<?, ?it/s]"
          ],
          "name": "stderr"
        },
        {
          "output_type": "stream",
          "text": [
            "\n",
            "epoch: 18  Test set: Average loss: 0.0179, Accuracy: 9941/10000 (99.41%)\n",
            "\n"
          ],
          "name": "stdout"
        },
        {
          "output_type": "stream",
          "text": [
            "loss=0.005453705787658691 batch_id=937: 100%|██████████| 938/938 [00:23<00:00, 39.68it/s]\n"
          ],
          "name": "stderr"
        },
        {
          "output_type": "stream",
          "text": [
            "\n",
            "epoch: 19  Test set: Average loss: 0.0182, Accuracy: 9947/10000 (99.47%)\n",
            "\n"
          ],
          "name": "stdout"
        }
      ]
    },
    {
      "cell_type": "code",
      "metadata": {
        "id": "So5uk4EkHW6R",
        "colab_type": "code",
        "colab": {}
      },
      "source": [
        ""
      ],
      "execution_count": 0,
      "outputs": []
    }
  ]
}